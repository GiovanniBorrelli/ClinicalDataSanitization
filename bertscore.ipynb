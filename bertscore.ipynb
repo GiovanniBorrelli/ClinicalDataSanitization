{
  "nbformat": 4,
  "nbformat_minor": 0,
  "metadata": {
    "colab": {
      "provenance": [],
      "include_colab_link": true
    },
    "kernelspec": {
      "name": "python3",
      "display_name": "Python 3"
    },
    "language_info": {
      "name": "python"
    }
  },
  "cells": [
    {
      "cell_type": "markdown",
      "metadata": {
        "id": "view-in-github",
        "colab_type": "text"
      },
      "source": [
        "<a href=\"https://colab.research.google.com/github/GiovanniBorrelli/ClinicalDataSanitization/blob/main/bertscore.ipynb\" target=\"_parent\"><img src=\"https://colab.research.google.com/assets/colab-badge.svg\" alt=\"Open In Colab\"/></a>"
      ]
    },
    {
      "cell_type": "code",
      "execution_count": 1,
      "metadata": {
        "colab": {
          "base_uri": "https://localhost:8080/"
        },
        "id": "blNSyZ19s71p",
        "outputId": "c20c2eb0-0338-4be7-9e78-8f27d6dc7b90"
      },
      "outputs": [
        {
          "output_type": "stream",
          "name": "stdout",
          "text": [
            "\u001b[2K   \u001b[90m━━━━━━━━━━━━━━━━━━━━━━━━━━━━━━━━━━━━━━━━\u001b[0m \u001b[32m61.1/61.1 kB\u001b[0m \u001b[31m2.6 MB/s\u001b[0m eta \u001b[36m0:00:00\u001b[0m\n",
            "\u001b[2K   \u001b[90m━━━━━━━━━━━━━━━━━━━━━━━━━━━━━━━━━━━━━━━━\u001b[0m \u001b[32m363.4/363.4 MB\u001b[0m \u001b[31m3.8 MB/s\u001b[0m eta \u001b[36m0:00:00\u001b[0m\n",
            "\u001b[2K   \u001b[90m━━━━━━━━━━━━━━━━━━━━━━━━━━━━━━━━━━━━━━━━\u001b[0m \u001b[32m13.8/13.8 MB\u001b[0m \u001b[31m72.1 MB/s\u001b[0m eta \u001b[36m0:00:00\u001b[0m\n",
            "\u001b[2K   \u001b[90m━━━━━━━━━━━━━━━━━━━━━━━━━━━━━━━━━━━━━━━━\u001b[0m \u001b[32m24.6/24.6 MB\u001b[0m \u001b[31m53.8 MB/s\u001b[0m eta \u001b[36m0:00:00\u001b[0m\n",
            "\u001b[2K   \u001b[90m━━━━━━━━━━━━━━━━━━━━━━━━━━━━━━━━━━━━━━━━\u001b[0m \u001b[32m883.7/883.7 kB\u001b[0m \u001b[31m39.7 MB/s\u001b[0m eta \u001b[36m0:00:00\u001b[0m\n",
            "\u001b[2K   \u001b[90m━━━━━━━━━━━━━━━━━━━━━━━━━━━━━━━━━━━━━━━━\u001b[0m \u001b[32m664.8/664.8 MB\u001b[0m \u001b[31m1.6 MB/s\u001b[0m eta \u001b[36m0:00:00\u001b[0m\n",
            "\u001b[2K   \u001b[90m━━━━━━━━━━━━━━━━━━━━━━━━━━━━━━━━━━━━━━━━\u001b[0m \u001b[32m211.5/211.5 MB\u001b[0m \u001b[31m5.9 MB/s\u001b[0m eta \u001b[36m0:00:00\u001b[0m\n",
            "\u001b[2K   \u001b[90m━━━━━━━━━━━━━━━━━━━━━━━━━━━━━━━━━━━━━━━━\u001b[0m \u001b[32m56.3/56.3 MB\u001b[0m \u001b[31m11.9 MB/s\u001b[0m eta \u001b[36m0:00:00\u001b[0m\n",
            "\u001b[2K   \u001b[90m━━━━━━━━━━━━━━━━━━━━━━━━━━━━━━━━━━━━━━━━\u001b[0m \u001b[32m127.9/127.9 MB\u001b[0m \u001b[31m7.1 MB/s\u001b[0m eta \u001b[36m0:00:00\u001b[0m\n",
            "\u001b[2K   \u001b[90m━━━━━━━━━━━━━━━━━━━━━━━━━━━━━━━━━━━━━━━━\u001b[0m \u001b[32m207.5/207.5 MB\u001b[0m \u001b[31m6.2 MB/s\u001b[0m eta \u001b[36m0:00:00\u001b[0m\n",
            "\u001b[2K   \u001b[90m━━━━━━━━━━━━━━━━━━━━━━━━━━━━━━━━━━━━━━━━\u001b[0m \u001b[32m21.1/21.1 MB\u001b[0m \u001b[31m59.2 MB/s\u001b[0m eta \u001b[36m0:00:00\u001b[0m\n",
            "\u001b[?25h"
          ]
        }
      ],
      "source": [
        "!pip install -q bert-score\n",
        "\n",
        "from bert_score import score\n",
        "import torch"
      ]
    },
    {
      "cell_type": "code",
      "source": [
        "# TRASCRITTO ORIGINALE\n",
        "original_text = \"\"\"\n",
        "PREOPERATIVE DIAGNOSIS: [Disease_disorder]\n",
        "POSTOPERATIVE DIAGNOSIS: [Disease_disorder]\n",
        "PROCEDURE PERFORMED: Repair of [Disease_disorder]\n",
        "ANESTHESIA: General\n",
        "COMPLICATIONS: None\n",
        "ESTIMATED BLOOD LOSS: Minimal\n",
        "PROCEDURE IN DETAIL:\n",
        "The patient was [Therapeutic_procedure] and draped in the [Detailed_description] fashion. An infraumbilical [Therapeutic_procedure] was formed and taken down to the [Biological_structure]. The [Disease_disorder] was carefully reduced back into the cavity, and the [Biological_structure] was closed with [Detailed_description] to approximate the [Biological_structure], and then the [Biological_structure] were infiltrated with 0.25% [Medication]. The [Biological_structure] was [Therapeutic_procedure] to the [Biological_structure] with [Detailed_description]. The [Biological_structure] was approximated with [Medication] [Detailed_description] and then [Detailed_description] subcuticular stitches, [Therapeutic_procedure] with [Therapeutic_procedure] and [Detailed_description]. Patient was [Therapeutic_procedure] and taken to the recovery area in stable condition.\n",
        "\"\"\"\n",
        "\n",
        "# RIASSUNTO\n",
        "summary_text = \"\"\"\n",
        "The patient underwent [Therapeutic_procedure] to repair a [Disease_disorder] via an infraumbilical [Therapeutic_procedure]. The [Biological_structure] was accessed and closed using [Detailed_description]. [Medication] was administered, and the [Biological_structure] was approximated with [Detailed_description] and [Detailed_description]. The wound was dressed with [Therapeutic_procedure] and [Detailed_description]. The [Patient] was [Therapeutic_procedure] and transferred to recovery in stable condition.\n",
        "\"\"\"\n",
        "\n",
        "\n",
        "# Calcolo del BERTScore\n",
        "P, R, F1 = score([summary_text], [original_text], lang=\"en\", model_type=\"bert-base-uncased\", verbose=True)"
      ],
      "metadata": {
        "id": "ZjG1NRl3vLDR"
      },
      "execution_count": null,
      "outputs": []
    },
    {
      "cell_type": "code",
      "source": [
        "# Stampa dei risultati\n",
        "print(f\"\\n🟢 BERTScore Results:\")\n",
        "print(f\"Precision: {P[0].item():.4f}\")\n",
        "print(f\"Recall:    {R[0].item():.4f}\")\n",
        "print(f\"F1-score:  {F1[0].item():.4f}\")"
      ],
      "metadata": {
        "colab": {
          "base_uri": "https://localhost:8080/"
        },
        "id": "GS-U_Gf9STRs",
        "outputId": "4c346bb7-5fdc-447a-90b6-5d17de64b72f"
      },
      "execution_count": 6,
      "outputs": [
        {
          "output_type": "stream",
          "name": "stdout",
          "text": [
            "\n",
            "🟢 BERTScore Results:\n",
            "Precision: 0.8363\n",
            "Recall:    0.7513\n",
            "F1-score:  0.7915\n"
          ]
        }
      ]
    }
  ]
}